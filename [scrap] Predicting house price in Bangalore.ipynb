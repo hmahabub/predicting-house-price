{
 "cells": [
  {
   "cell_type": "markdown",
   "id": "2253166b",
   "metadata": {},
   "source": [
    "# Predicting house price in Bangalore"
   ]
  },
  {
   "cell_type": "code",
   "execution_count": 109,
   "id": "97c40f85",
   "metadata": {},
   "outputs": [],
   "source": [
    "# importing necessary library\n",
    "import pandas as pd\n",
    "import numpy as np\n",
    "import matplotlib.pyplot as plt\n",
    "import seaborn as sns\n",
    "from sklearn import linear_model"
   ]
  },
  {
   "cell_type": "code",
   "execution_count": 110,
   "id": "f5c254b5",
   "metadata": {},
   "outputs": [
    {
     "data": {
      "text/html": [
       "<div>\n",
       "<style scoped>\n",
       "    .dataframe tbody tr th:only-of-type {\n",
       "        vertical-align: middle;\n",
       "    }\n",
       "\n",
       "    .dataframe tbody tr th {\n",
       "        vertical-align: top;\n",
       "    }\n",
       "\n",
       "    .dataframe thead th {\n",
       "        text-align: right;\n",
       "    }\n",
       "</style>\n",
       "<table border=\"1\" class=\"dataframe\">\n",
       "  <thead>\n",
       "    <tr style=\"text-align: right;\">\n",
       "      <th></th>\n",
       "      <th>area_type</th>\n",
       "      <th>availability</th>\n",
       "      <th>location</th>\n",
       "      <th>size</th>\n",
       "      <th>society</th>\n",
       "      <th>total_sqft</th>\n",
       "      <th>bath</th>\n",
       "      <th>balcony</th>\n",
       "      <th>price</th>\n",
       "    </tr>\n",
       "  </thead>\n",
       "  <tbody>\n",
       "    <tr>\n",
       "      <th>0</th>\n",
       "      <td>Super built-up  Area</td>\n",
       "      <td>19-Dec</td>\n",
       "      <td>Electronic City Phase II</td>\n",
       "      <td>2 BHK</td>\n",
       "      <td>Coomee</td>\n",
       "      <td>1056</td>\n",
       "      <td>2.0</td>\n",
       "      <td>1.0</td>\n",
       "      <td>39.07</td>\n",
       "    </tr>\n",
       "    <tr>\n",
       "      <th>1</th>\n",
       "      <td>Plot  Area</td>\n",
       "      <td>Ready To Move</td>\n",
       "      <td>Chikka Tirupathi</td>\n",
       "      <td>4 Bedroom</td>\n",
       "      <td>Theanmp</td>\n",
       "      <td>2600</td>\n",
       "      <td>5.0</td>\n",
       "      <td>3.0</td>\n",
       "      <td>120.00</td>\n",
       "    </tr>\n",
       "    <tr>\n",
       "      <th>2</th>\n",
       "      <td>Built-up  Area</td>\n",
       "      <td>Ready To Move</td>\n",
       "      <td>Uttarahalli</td>\n",
       "      <td>3 BHK</td>\n",
       "      <td>NaN</td>\n",
       "      <td>1440</td>\n",
       "      <td>2.0</td>\n",
       "      <td>3.0</td>\n",
       "      <td>62.00</td>\n",
       "    </tr>\n",
       "    <tr>\n",
       "      <th>3</th>\n",
       "      <td>Super built-up  Area</td>\n",
       "      <td>Ready To Move</td>\n",
       "      <td>Lingadheeranahalli</td>\n",
       "      <td>3 BHK</td>\n",
       "      <td>Soiewre</td>\n",
       "      <td>1521</td>\n",
       "      <td>3.0</td>\n",
       "      <td>1.0</td>\n",
       "      <td>95.00</td>\n",
       "    </tr>\n",
       "    <tr>\n",
       "      <th>4</th>\n",
       "      <td>Super built-up  Area</td>\n",
       "      <td>Ready To Move</td>\n",
       "      <td>Kothanur</td>\n",
       "      <td>2 BHK</td>\n",
       "      <td>NaN</td>\n",
       "      <td>1200</td>\n",
       "      <td>2.0</td>\n",
       "      <td>1.0</td>\n",
       "      <td>51.00</td>\n",
       "    </tr>\n",
       "  </tbody>\n",
       "</table>\n",
       "</div>"
      ],
      "text/plain": [
       "              area_type   availability                  location       size  \\\n",
       "0  Super built-up  Area         19-Dec  Electronic City Phase II      2 BHK   \n",
       "1            Plot  Area  Ready To Move          Chikka Tirupathi  4 Bedroom   \n",
       "2        Built-up  Area  Ready To Move               Uttarahalli      3 BHK   \n",
       "3  Super built-up  Area  Ready To Move        Lingadheeranahalli      3 BHK   \n",
       "4  Super built-up  Area  Ready To Move                  Kothanur      2 BHK   \n",
       "\n",
       "   society total_sqft  bath  balcony   price  \n",
       "0  Coomee        1056   2.0      1.0   39.07  \n",
       "1  Theanmp       2600   5.0      3.0  120.00  \n",
       "2      NaN       1440   2.0      3.0   62.00  \n",
       "3  Soiewre       1521   3.0      1.0   95.00  \n",
       "4      NaN       1200   2.0      1.0   51.00  "
      ]
     },
     "execution_count": 110,
     "metadata": {},
     "output_type": "execute_result"
    }
   ],
   "source": [
    "# read file\n",
    "df = pd.read_csv('./data/bengaluru_house_prices.csv')\n",
    "df.head()"
   ]
  },
  {
   "cell_type": "code",
   "execution_count": 111,
   "id": "6c0f7de0",
   "metadata": {},
   "outputs": [
    {
     "name": "stdout",
     "output_type": "stream",
     "text": [
      "No. of rows and colummns (13320, 9)\n"
     ]
    }
   ],
   "source": [
    "print(f'No. of rows and colummns {df.shape}')"
   ]
  },
  {
   "cell_type": "code",
   "execution_count": 112,
   "id": "afec0bee",
   "metadata": {},
   "outputs": [
    {
     "data": {
      "text/plain": [
       "area_type        object\n",
       "availability     object\n",
       "location         object\n",
       "size             object\n",
       "society          object\n",
       "total_sqft       object\n",
       "bath            float64\n",
       "balcony         float64\n",
       "price           float64\n",
       "dtype: object"
      ]
     },
     "execution_count": 112,
     "metadata": {},
     "output_type": "execute_result"
    }
   ],
   "source": [
    "df.dtypes"
   ]
  },
  {
   "cell_type": "markdown",
   "id": "30a42776",
   "metadata": {},
   "source": [
    "\n",
    "    bath      ---      float64 \n",
    "\n",
    "    balcony     ---    float64\n",
    "\n",
    "    price       ---    float64\n",
    "\n",
    "\n",
    "This three feature already in desired format.\n",
    "\n",
    "    size       ---      object\n",
    "\n",
    "    total_sqft  ---     object\n",
    "\n",
    "We need change type of this two feature."
   ]
  },
  {
   "cell_type": "code",
   "execution_count": 113,
   "id": "d9325fe9",
   "metadata": {},
   "outputs": [
    {
     "data": {
      "text/plain": [
       "Index(['area_type', 'availability', 'location', 'size', 'society',\n",
       "       'total_sqft', 'bath', 'balcony', 'price'],\n",
       "      dtype='object')"
      ]
     },
     "execution_count": 113,
     "metadata": {},
     "output_type": "execute_result"
    }
   ],
   "source": [
    "df.columns"
   ]
  },
  {
   "cell_type": "code",
   "execution_count": 114,
   "id": "37d6140b",
   "metadata": {},
   "outputs": [],
   "source": [
    "c_feature = ['area_type', 'availability', 'location','society']"
   ]
  },
  {
   "cell_type": "code",
   "execution_count": 115,
   "id": "52bd752c",
   "metadata": {},
   "outputs": [
    {
     "name": "stdout",
     "output_type": "stream",
     "text": [
      "area_type : 4 : ['Super built-up  Area' 'Plot  Area' 'Built-up  Area' 'Carpet  Area']\n",
      "\n",
      "availability : 81 : ['19-Dec' 'Ready To Move' '18-May' '18-Feb' '18-Nov' '20-Dec' '17-Oct'\n",
      " '21-Dec' '19-Sep' '20-Sep' '18-Mar' '20-Feb' '18-Apr' '20-Aug' '18-Oct'\n",
      " '19-Mar' '17-Sep' '18-Dec' '17-Aug' '19-Apr' '18-Jun' '22-Dec' '22-Jan'\n",
      " '18-Aug' '19-Jan' '17-Jul' '18-Jul' '21-Jun' '20-May' '19-Aug' '18-Sep'\n",
      " '17-May' '17-Jun' '21-May' '18-Jan' '20-Mar' '17-Dec' '16-Mar' '19-Jun'\n",
      " '22-Jun' '19-Jul' '21-Feb' 'Immediate Possession' '19-May' '17-Nov'\n",
      " '20-Oct' '20-Jun' '19-Feb' '21-Oct' '21-Jan' '17-Mar' '17-Apr' '22-May'\n",
      " '19-Oct' '21-Jul' '21-Nov' '21-Mar' '16-Dec' '22-Mar' '20-Jan' '21-Sep'\n",
      " '21-Aug' '14-Nov' '19-Nov' '15-Nov' '16-Jul' '15-Jun' '17-Feb' '20-Nov'\n",
      " '20-Jul' '16-Sep' '15-Oct' '15-Dec' '16-Oct' '22-Nov' '15-Aug' '17-Jan'\n",
      " '16-Nov' '20-Apr' '16-Jan' '14-Jul']\n",
      "\n",
      "location : 1305 : ['Electronic City Phase II' 'Chikka Tirupathi' 'Uttarahalli' ...\n",
      " '12th cross srinivas nagar banshankari 3rd stage' 'Havanur extension'\n",
      " 'Abshot Layout']\n",
      "\n",
      "society : 2688 : ['Coomee ' 'Theanmp' nan ... 'SJovest' 'ThhtsV ' 'RSntsAp']\n",
      "\n"
     ]
    }
   ],
   "source": [
    "for f in c_feature:\n",
    "    print(f'{f} : {df[f].nunique()} : {df[f].unique()}\\n')"
   ]
  },
  {
   "cell_type": "markdown",
   "id": "63571028",
   "metadata": {},
   "source": [
    "Need to simplipy 'availability' 'location' in feature engineering. also drop 'society' column."
   ]
  },
  {
   "cell_type": "code",
   "execution_count": 116,
   "id": "62a0af3c",
   "metadata": {},
   "outputs": [
    {
     "data": {
      "text/plain": [
       "529"
      ]
     },
     "execution_count": 116,
     "metadata": {},
     "output_type": "execute_result"
    }
   ],
   "source": [
    "# calculating duplicate value\n",
    "df.duplicated().sum()"
   ]
  },
  {
   "cell_type": "code",
   "execution_count": 117,
   "id": "6484d96d",
   "metadata": {},
   "outputs": [],
   "source": [
    "# removing duplicate value\n",
    "df = df.drop_duplicates()"
   ]
  },
  {
   "cell_type": "code",
   "execution_count": 118,
   "id": "4878a8c7",
   "metadata": {},
   "outputs": [
    {
     "data": {
      "text/plain": [
       "(12791, 9)"
      ]
     },
     "execution_count": 118,
     "metadata": {},
     "output_type": "execute_result"
    }
   ],
   "source": [
    "df.shape"
   ]
  },
  {
   "cell_type": "code",
   "execution_count": 119,
   "id": "da113f21",
   "metadata": {},
   "outputs": [
    {
     "data": {
      "text/plain": [
       "area_type          0\n",
       "availability       0\n",
       "location           1\n",
       "size              16\n",
       "society         5328\n",
       "total_sqft         0\n",
       "bath              73\n",
       "balcony          605\n",
       "price              0\n",
       "dtype: int64"
      ]
     },
     "execution_count": 119,
     "metadata": {},
     "output_type": "execute_result"
    }
   ],
   "source": [
    "df.isnull().sum()"
   ]
  },
  {
   "cell_type": "markdown",
   "id": "c5561ad3",
   "metadata": {},
   "source": [
    "Have to fill missing value in bath, balcony. That can be done by group by mean with 'size'."
   ]
  },
  {
   "cell_type": "code",
   "execution_count": 120,
   "id": "09189cee",
   "metadata": {},
   "outputs": [
    {
     "name": "stdout",
     "output_type": "stream",
     "text": [
      "<class 'pandas.core.frame.DataFrame'>\n",
      "Int64Index: 12791 entries, 0 to 13318\n",
      "Data columns (total 9 columns):\n",
      " #   Column        Non-Null Count  Dtype  \n",
      "---  ------        --------------  -----  \n",
      " 0   area_type     12791 non-null  object \n",
      " 1   availability  12791 non-null  object \n",
      " 2   location      12790 non-null  object \n",
      " 3   size          12775 non-null  object \n",
      " 4   society       7463 non-null   object \n",
      " 5   total_sqft    12791 non-null  object \n",
      " 6   bath          12718 non-null  float64\n",
      " 7   balcony       12186 non-null  float64\n",
      " 8   price         12791 non-null  float64\n",
      "dtypes: float64(3), object(6)\n",
      "memory usage: 999.3+ KB\n"
     ]
    }
   ],
   "source": [
    "df.info()"
   ]
  },
  {
   "cell_type": "code",
   "execution_count": 121,
   "id": "bd9f4a1a",
   "metadata": {},
   "outputs": [
    {
     "data": {
      "text/html": [
       "<div>\n",
       "<style scoped>\n",
       "    .dataframe tbody tr th:only-of-type {\n",
       "        vertical-align: middle;\n",
       "    }\n",
       "\n",
       "    .dataframe tbody tr th {\n",
       "        vertical-align: top;\n",
       "    }\n",
       "\n",
       "    .dataframe thead th {\n",
       "        text-align: right;\n",
       "    }\n",
       "</style>\n",
       "<table border=\"1\" class=\"dataframe\">\n",
       "  <thead>\n",
       "    <tr style=\"text-align: right;\">\n",
       "      <th></th>\n",
       "      <th>bath</th>\n",
       "      <th>balcony</th>\n",
       "      <th>price</th>\n",
       "    </tr>\n",
       "  </thead>\n",
       "  <tbody>\n",
       "    <tr>\n",
       "      <th>count</th>\n",
       "      <td>12718.000000</td>\n",
       "      <td>12186.000000</td>\n",
       "      <td>12791.000000</td>\n",
       "    </tr>\n",
       "    <tr>\n",
       "      <th>mean</th>\n",
       "      <td>2.708602</td>\n",
       "      <td>1.582308</td>\n",
       "      <td>114.317646</td>\n",
       "    </tr>\n",
       "    <tr>\n",
       "      <th>std</th>\n",
       "      <td>1.357764</td>\n",
       "      <td>0.822536</td>\n",
       "      <td>151.480310</td>\n",
       "    </tr>\n",
       "    <tr>\n",
       "      <th>min</th>\n",
       "      <td>1.000000</td>\n",
       "      <td>0.000000</td>\n",
       "      <td>8.000000</td>\n",
       "    </tr>\n",
       "    <tr>\n",
       "      <th>25%</th>\n",
       "      <td>2.000000</td>\n",
       "      <td>1.000000</td>\n",
       "      <td>50.000000</td>\n",
       "    </tr>\n",
       "    <tr>\n",
       "      <th>50%</th>\n",
       "      <td>2.000000</td>\n",
       "      <td>2.000000</td>\n",
       "      <td>73.000000</td>\n",
       "    </tr>\n",
       "    <tr>\n",
       "      <th>75%</th>\n",
       "      <td>3.000000</td>\n",
       "      <td>2.000000</td>\n",
       "      <td>121.000000</td>\n",
       "    </tr>\n",
       "    <tr>\n",
       "      <th>max</th>\n",
       "      <td>40.000000</td>\n",
       "      <td>3.000000</td>\n",
       "      <td>3600.000000</td>\n",
       "    </tr>\n",
       "  </tbody>\n",
       "</table>\n",
       "</div>"
      ],
      "text/plain": [
       "               bath       balcony         price\n",
       "count  12718.000000  12186.000000  12791.000000\n",
       "mean       2.708602      1.582308    114.317646\n",
       "std        1.357764      0.822536    151.480310\n",
       "min        1.000000      0.000000      8.000000\n",
       "25%        2.000000      1.000000     50.000000\n",
       "50%        2.000000      2.000000     73.000000\n",
       "75%        3.000000      2.000000    121.000000\n",
       "max       40.000000      3.000000   3600.000000"
      ]
     },
     "execution_count": 121,
     "metadata": {},
     "output_type": "execute_result"
    }
   ],
   "source": [
    "df.describe()"
   ]
  },
  {
   "cell_type": "markdown",
   "id": "a493609e",
   "metadata": {},
   "source": [
    "Before further analysis we have to process data column in correct format"
   ]
  },
  {
   "cell_type": "code",
   "execution_count": 122,
   "id": "fe74e343",
   "metadata": {},
   "outputs": [],
   "source": [
    "df_nft = df.copy()"
   ]
  },
  {
   "cell_type": "code",
   "execution_count": 123,
   "id": "c21a3626",
   "metadata": {},
   "outputs": [
    {
     "data": {
      "text/plain": [
       "array([nan, '2100 - 2850', '3010 - 3410', '2957 - 3450', '3067 - 8156',\n",
       "       '1042 - 1105', '1145 - 1340', '1015 - 1540', '1520 - 1740',\n",
       "       '34.46Sq. Meter', '1195 - 1440', '1200 - 2400', '4125Perch',\n",
       "       '1120 - 1145', '4400 - 6640', '3090 - 5002', '4400 - 6800',\n",
       "       '1160 - 1195', '1000Sq. Meter', '4000 - 5249', '1115 - 1130',\n",
       "       '1100Sq. Yards', '520 - 645', '1000 - 1285', '3606 - 5091',\n",
       "       '650 - 665', '633 - 666', '5.31Acres', '30Acres', '1445 - 1455',\n",
       "       '884 - 1116', '850 - 1093', '1440 - 1884', '716Sq. Meter',\n",
       "       '547.34 - 827.31', '580 - 650', '3425 - 3435', '1804 - 2273',\n",
       "       '3630 - 3800', '660 - 670', '1500Sq. Meter', '620 - 933',\n",
       "       '142.61Sq. Meter', '2695 - 2940', '2000 - 5634', '1574Sq. Yards',\n",
       "       '3450 - 3472', '1250 - 1305', '670 - 980', '1005.03 - 1252.49',\n",
       "       '1004 - 1204', '361.33Sq. Yards', '645 - 936', '2710 - 3360',\n",
       "       '2249.81 - 4112.19', '3436 - 3643', '2830 - 2882', '596 - 804',\n",
       "       '1255 - 1863', '1300 - 1405', '1500 - 2400', '117Sq. Yards',\n",
       "       '934 - 1437', '980 - 1030', '1564 - 1850', '1446 - 1506',\n",
       "       '1070 - 1315', '3040Sq. Meter', '500Sq. Yards', '2806 - 3019',\n",
       "       '613 - 648', '1430 - 1630', '704 - 730', '1482 - 1846',\n",
       "       '2805 - 3565', '3293 - 5314', '1210 - 1477', '3369 - 3464',\n",
       "       '1125 - 1500', '167Sq. Meter', '1076 - 1199', '381 - 535',\n",
       "       '2215 - 2475', '524 - 894', '540 - 670', '315Sq. Yards',\n",
       "       '1650 - 2538', '2725 - 3250', '1974 - 2171', '888 - 1290',\n",
       "       '1360 - 1890', '2466 - 2856', '660 - 700', '385 - 440',\n",
       "       '2100 - 5405', '770 - 841', '3Cents', '1310 - 1615', '1782 - 2000',\n",
       "       '188.89Sq. Yards', '1469 - 1766', '204Sq. Meter', '1255 - 1350',\n",
       "       '870 - 1080', '45Sq. Yards', '133.3Sq. Yards', '2580 - 2591',\n",
       "       '2563 - 2733', '605 - 624', '4260 - 4408', '1349 - 3324',\n",
       "       '78.03Sq. Meter', '3300 - 3335', '1180 - 1630', '1365 - 1700',\n",
       "       '3500 - 3600', '122Sq. Yards', '84.53Sq. Meter', '2.09Acres',\n",
       "       '1482 - 1684', '981 - 1249', '1100 - 1225', '1565 - 1595',\n",
       "       '24Guntha', '1270 - 1275', '840 - 1010', '697Sq. Meter',\n",
       "       '655 - 742', '800 - 2660', '1408 - 1455', '4050 - 4075',\n",
       "       '942 - 1117', '1750 - 2640', '1390 - 1600', '598 - 958',\n",
       "       '1500Cents', '132Sq. Yards', '1010 - 1300', '2Acres',\n",
       "       '3103 - 3890', '1450 - 1950', '1100Sq. Meter', '15Acres',\n",
       "       '1450 - 1595', '763 - 805', '3307 - 3464', '1.26Acres',\n",
       "       '620 - 934', '2462 - 2467', '540 - 740', '1618 - 1929',\n",
       "       '3508 - 4201', '4900 - 4940', '1610 - 1880', '755 - 770',\n",
       "       '664 - 722', '151.11Sq. Yards', '700 - 900', '596 - 861',\n",
       "       '1925 - 2680', '615 - 985', '540 - 565', '750 - 800',\n",
       "       '1660 - 1805', '1410 - 1710', '1079 - 1183', '2800 - 2870',\n",
       "       '1230 - 1290', '943 - 1220', '2041 - 2090', '527 - 639',\n",
       "       '1Grounds', '1160 - 1315', '706 - 716', '2940Sq. Yards',\n",
       "       '1791 - 4000', '45.06Sq. Meter', '799 - 803', '2470 - 2790',\n",
       "       '783 - 943', '4500 - 5540', '1255 - 1375', '610 - 615',\n",
       "       '854 - 960', '2650 - 2990', '1.25Acres', '86.72Sq. Meter',\n",
       "       '1230 - 1490', '660 - 780', '1150 - 1194', '684 - 810',\n",
       "       '1200 - 1800', '1510 - 1670', '1550 - 1590', '1235 - 1410',\n",
       "       '3484 - 3550', '38Guntha', '929 - 1078', '2150 - 2225',\n",
       "       '1520 - 1759', '629 - 1026', '1215 - 1495', '6Acres',\n",
       "       '1140 - 1250', '2400 - 2600', '1052 - 1322', '5666 - 5669',\n",
       "       '712 - 938', '1783 - 1878', '120Sq. Yards', '24Sq. Meter',\n",
       "       '2528 - 3188', '650 - 760', '1400 - 1421', '4000 - 4450',\n",
       "       '142.84Sq. Meter', '300Sq. Yards', '2204 - 2362', '1437 - 1629',\n",
       "       '850 - 1060', '1200 - 1470', '1020 - 1130', '1133 - 1384'],\n",
       "      dtype=object)"
      ]
     },
     "execution_count": 123,
     "metadata": {},
     "output_type": "execute_result"
    }
   ],
   "source": [
    "def mysplit(s):\n",
    "    '''\n",
    "    value which is in correct conditon, can be copnvert easily ,\n",
    "    replacing them with None to other value and learn about their format\n",
    "    '''\n",
    "    try:\n",
    "        float(s)\n",
    "    except:\n",
    "        return s\n",
    "    return np.nan\n",
    "    \n",
    "df_nft['total_area'] = df_nft['total_sqft'].apply(mysplit) \n",
    "df_nft['total_area'].unique()"
   ]
  },
  {
   "cell_type": "markdown",
   "id": "f85d091b",
   "metadata": {},
   "source": [
    "Apart from float value , in some column showing a range(ex: '2528 - 3188') and some column filled with unit name which is not sqft (ex:  '142.84Sq. Meter')\n",
    "for 1st type we will calculate the mean value of that range and for 2nd type we convert those value in sqft."
   ]
  },
  {
   "cell_type": "code",
   "execution_count": 124,
   "id": "7bfe1d8c",
   "metadata": {
    "scrolled": false
   },
   "outputs": [],
   "source": [
    "# converting range value\n",
    "def convert(cell):\n",
    "    unit_v = {'Sq. Meter':10.7639, 'Perch':272.25, 'Sq. Yards': 9, \n",
    "          'Acres': 43560, 'Cents' : 435.56, 'Guntha' : 1089,\n",
    "          'Grounds' : 2400\n",
    "         }\n",
    "    lst =cell.split(' - ')\n",
    "    if len(lst)==2:\n",
    "        return np.average([float(a) for a in lst])\n",
    "    try:\n",
    "        return float(cell)\n",
    "    except:\n",
    "        tail = cell.lstrip('0123456789.')  \n",
    "        sqft = float(cell.strip(tail)) * unit_v[tail]\n",
    "        return str(sqft)\n",
    "\n",
    "         \n",
    "df['total_sqft'] = df['total_sqft'].apply(convert)"
   ]
  },
  {
   "cell_type": "code",
   "execution_count": 125,
   "id": "56898355",
   "metadata": {},
   "outputs": [],
   "source": [
    "df['total_sqft'] = df['total_sqft'].astype('float64')"
   ]
  },
  {
   "cell_type": "code",
   "execution_count": 126,
   "id": "1dd53810",
   "metadata": {},
   "outputs": [],
   "source": [
    "# removing all words contains in this section\n",
    "df['size'] = df['size'].str.split(' ').str[0]\n",
    "df['size'] = df['size'].astype('float64')"
   ]
  },
  {
   "cell_type": "markdown",
   "id": "a31d876a",
   "metadata": {},
   "source": [
    "Converted all variable into float type. Now let's recheck to our column type."
   ]
  },
  {
   "cell_type": "code",
   "execution_count": 127,
   "id": "2d29ff64",
   "metadata": {},
   "outputs": [
    {
     "name": "stdout",
     "output_type": "stream",
     "text": [
      "<class 'pandas.core.frame.DataFrame'>\n",
      "Int64Index: 12791 entries, 0 to 13318\n",
      "Data columns (total 9 columns):\n",
      " #   Column        Non-Null Count  Dtype  \n",
      "---  ------        --------------  -----  \n",
      " 0   area_type     12791 non-null  object \n",
      " 1   availability  12791 non-null  object \n",
      " 2   location      12790 non-null  object \n",
      " 3   size          12775 non-null  float64\n",
      " 4   society       7463 non-null   object \n",
      " 5   total_sqft    12791 non-null  float64\n",
      " 6   bath          12718 non-null  float64\n",
      " 7   balcony       12186 non-null  float64\n",
      " 8   price         12791 non-null  float64\n",
      "dtypes: float64(5), object(4)\n",
      "memory usage: 999.3+ KB\n"
     ]
    }
   ],
   "source": [
    "df.info()"
   ]
  },
  {
   "cell_type": "code",
   "execution_count": 128,
   "id": "ad92bf2c",
   "metadata": {},
   "outputs": [],
   "source": [
    "# dropping society column\n",
    "df.drop(['society','balcony'], axis=1, inplace=True)"
   ]
  },
  {
   "cell_type": "markdown",
   "id": "6588309b",
   "metadata": {},
   "source": [
    "df.describe()"
   ]
  },
  {
   "cell_type": "code",
   "execution_count": 129,
   "id": "7a8fdf98",
   "metadata": {
    "scrolled": false
   },
   "outputs": [
    {
     "data": {
      "image/png": "[encoded data removed]",
      "text/plain": [
       "<Figure size 1000x300 with 1 Axes>"
      ]
     },
     "metadata": {},
     "output_type": "display_data"
    },
    {
     "data": {
      "image/png": "[encoded data removed]",
      "text/plain": [
       "<Figure size 1000x300 with 1 Axes>"
      ]
     },
     "metadata": {},
     "output_type": "display_data"
    },
    {
     "data": {
      "image/png": "[encoded data removed]",
      "text/plain": [
       "<Figure size 1000x300 with 1 Axes>"
      ]
     },
     "metadata": {},
     "output_type": "display_data"
    },
    {
     "data": {
      "image/png": "[encoded data removed]",
      "text/plain": [
       "<Figure size 1000x300 with 1 Axes>"
      ]
     },
     "metadata": {},
     "output_type": "display_data"
    }
   ],
   "source": [
    "n_feature = [a for a in df.columns if a not in c_feature]\n",
    "for f in n_feature:\n",
    "    plt.figure(figsize=(10,3))\n",
    "    sns.boxplot(x=df[f])\n",
    "    plt.show()"
   ]
  },
  {
   "cell_type": "markdown",
   "id": "367a09cb",
   "metadata": {},
   "source": [
    "outliers range is very high. We can use 4 std variation to handle outlier."
   ]
  },
  {
   "cell_type": "markdown",
   "id": "78cb6a39",
   "metadata": {},
   "source": [
    "__Distribution of values__"
   ]
  },
  {
   "cell_type": "code",
   "execution_count": 130,
   "id": "4c4d8daf",
   "metadata": {},
   "outputs": [
    {
     "data": {
      "image/png": "[encoded data removed]",
      "text/plain": [
       "<Figure size 1000x300 with 1 Axes>"
      ]
     },
     "metadata": {},
     "output_type": "display_data"
    },
    {
     "data": {
      "image/png": "[encoded data removed]",
      "text/plain": [
       "<Figure size 1000x300 with 1 Axes>"
      ]
     },
     "metadata": {},
     "output_type": "display_data"
    },
    {
     "data": {
      "image/png": "[encoded data removed]",
      "text/plain": [
       "<Figure size 1000x300 with 1 Axes>"
      ]
     },
     "metadata": {},
     "output_type": "display_data"
    },
    {
     "data": {
      "image/png": "[encoded data removed]",
      "text/plain": [
       "<Figure size 1000x300 with 1 Axes>"
      ]
     },
     "metadata": {},
     "output_type": "display_data"
    }
   ],
   "source": [
    "for f in n_feature:\n",
    "    plt.figure(figsize=(10,3))\n",
    "    sns.histplot(x=df[f], bins=25, kde=True)\n",
    "    plt.show()"
   ]
  },
  {
   "cell_type": "markdown",
   "id": "24118b24",
   "metadata": {},
   "source": [
    "Distribution is not normal. should use boxcox method to normalize"
   ]
  },
  {
   "cell_type": "code",
   "execution_count": 131,
   "id": "db9d5d80",
   "metadata": {},
   "outputs": [
    {
     "data": {
      "text/plain": [
       "['area_type', 'availability', 'location', 'society']"
      ]
     },
     "execution_count": 131,
     "metadata": {},
     "output_type": "execute_result"
    }
   ],
   "source": [
    "c_feature "
   ]
  },
  {
   "cell_type": "code",
   "execution_count": 132,
   "id": "bbd62ac0",
   "metadata": {
    "scrolled": false
   },
   "outputs": [
    {
     "data": {
      "image/png": "[encoded data removed]",
      "text/plain": [
       "<Figure size 500x200 with 1 Axes>"
      ]
     },
     "metadata": {},
     "output_type": "display_data"
    }
   ],
   "source": [
    "plt.figure(figsize=(5,2))\n",
    "sns.countplot(x=df['area_type'])\n",
    "plt.xticks(rotation=90)\n",
    "plt.show()"
   ]
  },
  {
   "cell_type": "markdown",
   "id": "2dc167ce",
   "metadata": {},
   "source": [
    "### FE"
   ]
  },
  {
   "cell_type": "markdown",
   "id": "a1efe4db",
   "metadata": {},
   "source": [
    "### Outlier Handling"
   ]
  },
  {
   "cell_type": "code",
   "execution_count": 133,
   "id": "210aef3f",
   "metadata": {},
   "outputs": [],
   "source": [
    "q1 = df.price.quantile(.25)\n",
    "q3 = df.price.quantile(.75)\n",
    "\n",
    "iqr = q3 - q1"
   ]
  },
  {
   "cell_type": "code",
   "execution_count": 134,
   "id": "60534b52",
   "metadata": {},
   "outputs": [],
   "source": [
    "l_fence = q1 - (1.5 * iqr)\n",
    "u_fence = q3 + (1.5 * iqr)"
   ]
  },
  {
   "cell_type": "code",
   "execution_count": 135,
   "id": "e1ed4ce9",
   "metadata": {},
   "outputs": [
    {
     "data": {
      "text/plain": [
       "(227.5, -56.5)"
      ]
     },
     "execution_count": 135,
     "metadata": {},
     "output_type": "execute_result"
    }
   ],
   "source": [
    "u_fence,l_fence"
   ]
  },
  {
   "cell_type": "markdown",
   "id": "658b4127",
   "metadata": {},
   "source": [
    "price can not be less than 0. so adjust l_fence = 0 "
   ]
  },
  {
   "cell_type": "code",
   "execution_count": 136,
   "id": "802eabe2",
   "metadata": {},
   "outputs": [],
   "source": [
    "l_fence = 0"
   ]
  },
  {
   "cell_type": "code",
   "execution_count": 137,
   "id": "42abdbd2",
   "metadata": {},
   "outputs": [],
   "source": [
    "df = df[(df.price > l_fence )& (df.price <= u_fence)]"
   ]
  },
  {
   "cell_type": "code",
   "execution_count": 138,
   "id": "6648dd5a",
   "metadata": {},
   "outputs": [
    {
     "data": {
      "text/plain": [
       "(11534, 7)"
      ]
     },
     "execution_count": 138,
     "metadata": {},
     "output_type": "execute_result"
    }
   ],
   "source": [
    "df.shape"
   ]
  },
  {
   "cell_type": "code",
   "execution_count": 139,
   "id": "04bfcb00",
   "metadata": {},
   "outputs": [],
   "source": [
    "q1 = df.total_sqft.quantile(.25)\n",
    "q3 = df.total_sqft.quantile(.75)\n",
    "\n",
    "iqr = q3 - q1"
   ]
  },
  {
   "cell_type": "code",
   "execution_count": 140,
   "id": "cede14ad",
   "metadata": {},
   "outputs": [
    {
     "data": {
      "text/plain": [
       "(2280.0, 360.0)"
      ]
     },
     "execution_count": 140,
     "metadata": {},
     "output_type": "execute_result"
    }
   ],
   "source": [
    "l_fence = q1 - (1.5 * iqr)\n",
    "u_fence = q3 + (1.5 * iqr)\n",
    "u_fence,l_fence"
   ]
  },
  {
   "cell_type": "code",
   "execution_count": 141,
   "id": "92f10c67",
   "metadata": {},
   "outputs": [
    {
     "data": {
      "text/plain": [
       "(10845, 7)"
      ]
     },
     "execution_count": 141,
     "metadata": {},
     "output_type": "execute_result"
    }
   ],
   "source": [
    "df = df[(df.total_sqft > l_fence )& (df.total_sqft <= u_fence)]\n",
    "df.shape"
   ]
  },
  {
   "cell_type": "code",
   "execution_count": 142,
   "id": "bc18831c",
   "metadata": {},
   "outputs": [],
   "source": [
    "df['size'] = df['size'].fillna(df['size'].mode())\n",
    "df['size'] = df['size'].astype('float64')"
   ]
  },
  {
   "cell_type": "code",
   "execution_count": 143,
   "id": "46eef645",
   "metadata": {},
   "outputs": [],
   "source": [
    "q1 = df['size'].quantile(.25)\n",
    "q3 = df['size'].quantile(.75)\n",
    "\n",
    "iqr = q3 - q1"
   ]
  },
  {
   "cell_type": "code",
   "execution_count": 144,
   "id": "135da846",
   "metadata": {},
   "outputs": [
    {
     "data": {
      "text/plain": [
       "(4.5, 0.5)"
      ]
     },
     "execution_count": 144,
     "metadata": {},
     "output_type": "execute_result"
    }
   ],
   "source": [
    "l_fence = q1 - (1.5 * iqr)\n",
    "u_fence = q3 + (1.5 * iqr)\n",
    "u_fence,l_fence"
   ]
  },
  {
   "cell_type": "code",
   "execution_count": 145,
   "id": "a655af4a",
   "metadata": {},
   "outputs": [
    {
     "data": {
      "text/plain": [
       "(10425, 7)"
      ]
     },
     "execution_count": 145,
     "metadata": {},
     "output_type": "execute_result"
    }
   ],
   "source": [
    "df = df[(df['size'] > l_fence )& (df['size'] <= u_fence)]\n",
    "df.shape"
   ]
  },
  {
   "cell_type": "code",
   "execution_count": null,
   "id": "11eadb5c",
   "metadata": {},
   "outputs": [],
   "source": []
  },
  {
   "cell_type": "code",
   "execution_count": 146,
   "id": "798c8a5f",
   "metadata": {},
   "outputs": [
    {
     "data": {
      "image/png": "[encoded data removed]",
      "text/plain": [
       "<Figure size 1000x300 with 1 Axes>"
      ]
     },
     "metadata": {},
     "output_type": "display_data"
    }
   ],
   "source": [
    "plt.figure(figsize=(10,3))\n",
    "sns.boxplot(x=df['size'])\n",
    "plt.show()"
   ]
  },
  {
   "cell_type": "code",
   "execution_count": 147,
   "id": "ec8a4661",
   "metadata": {},
   "outputs": [],
   "source": [
    "from sklearn.model_selection import train_test_split\n",
    "\n",
    "X = df[['total_sqft','size']]\n",
    "y = df['price']\n",
    "\n",
    "x_train, x_test, y_train, y_test = train_test_split(X,y,test_size=0.3)"
   ]
  },
  {
   "cell_type": "code",
   "execution_count": 148,
   "id": "daa0e638",
   "metadata": {},
   "outputs": [
    {
     "data": {
      "text/html": [
       "<div>\n",
       "<style scoped>\n",
       "    .dataframe tbody tr th:only-of-type {\n",
       "        vertical-align: middle;\n",
       "    }\n",
       "\n",
       "    .dataframe tbody tr th {\n",
       "        vertical-align: top;\n",
       "    }\n",
       "\n",
       "    .dataframe thead th {\n",
       "        text-align: right;\n",
       "    }\n",
       "</style>\n",
       "<table border=\"1\" class=\"dataframe\">\n",
       "  <thead>\n",
       "    <tr style=\"text-align: right;\">\n",
       "      <th></th>\n",
       "      <th>total_sqft</th>\n",
       "      <th>size</th>\n",
       "    </tr>\n",
       "  </thead>\n",
       "  <tbody>\n",
       "    <tr>\n",
       "      <th>12630</th>\n",
       "      <td>1057.0</td>\n",
       "      <td>2.0</td>\n",
       "    </tr>\n",
       "    <tr>\n",
       "      <th>2611</th>\n",
       "      <td>1164.0</td>\n",
       "      <td>2.0</td>\n",
       "    </tr>\n",
       "    <tr>\n",
       "      <th>7391</th>\n",
       "      <td>1565.0</td>\n",
       "      <td>3.0</td>\n",
       "    </tr>\n",
       "    <tr>\n",
       "      <th>11557</th>\n",
       "      <td>1128.0</td>\n",
       "      <td>2.0</td>\n",
       "    </tr>\n",
       "    <tr>\n",
       "      <th>2425</th>\n",
       "      <td>990.0</td>\n",
       "      <td>2.0</td>\n",
       "    </tr>\n",
       "    <tr>\n",
       "      <th>...</th>\n",
       "      <td>...</td>\n",
       "      <td>...</td>\n",
       "    </tr>\n",
       "    <tr>\n",
       "      <th>7431</th>\n",
       "      <td>1125.0</td>\n",
       "      <td>2.0</td>\n",
       "    </tr>\n",
       "    <tr>\n",
       "      <th>9777</th>\n",
       "      <td>1315.0</td>\n",
       "      <td>2.0</td>\n",
       "    </tr>\n",
       "    <tr>\n",
       "      <th>9593</th>\n",
       "      <td>1278.0</td>\n",
       "      <td>3.0</td>\n",
       "    </tr>\n",
       "    <tr>\n",
       "      <th>1175</th>\n",
       "      <td>1500.0</td>\n",
       "      <td>3.0</td>\n",
       "    </tr>\n",
       "    <tr>\n",
       "      <th>1169</th>\n",
       "      <td>1200.0</td>\n",
       "      <td>3.0</td>\n",
       "    </tr>\n",
       "  </tbody>\n",
       "</table>\n",
       "<p>7297 rows × 2 columns</p>\n",
       "</div>"
      ],
      "text/plain": [
       "       total_sqft  size\n",
       "12630      1057.0   2.0\n",
       "2611       1164.0   2.0\n",
       "7391       1565.0   3.0\n",
       "11557      1128.0   2.0\n",
       "2425        990.0   2.0\n",
       "...           ...   ...\n",
       "7431       1125.0   2.0\n",
       "9777       1315.0   2.0\n",
       "9593       1278.0   3.0\n",
       "1175       1500.0   3.0\n",
       "1169       1200.0   3.0\n",
       "\n",
       "[7297 rows x 2 columns]"
      ]
     },
     "execution_count": 148,
     "metadata": {},
     "output_type": "execute_result"
    }
   ],
   "source": [
    "x_train"
   ]
  },
  {
   "cell_type": "code",
   "execution_count": 149,
   "id": "8d14ccd8",
   "metadata": {},
   "outputs": [],
   "source": [
    "reg = linear_model.LinearRegression()"
   ]
  },
  {
   "cell_type": "code",
   "execution_count": 150,
   "id": "872ad4ea",
   "metadata": {},
   "outputs": [
    {
     "data": {
      "text/plain": [
       "LinearRegression()"
      ]
     },
     "execution_count": 150,
     "metadata": {},
     "output_type": "execute_result"
    }
   ],
   "source": [
    "reg.fit(x_train,y_train)"
   ]
  },
  {
   "cell_type": "code",
   "execution_count": 151,
   "id": "2409ab26",
   "metadata": {},
   "outputs": [
    {
     "data": {
      "text/plain": [
       "array([ 26.04447267, 113.8267068 ,  63.76591532, ...,  75.02557113,\n",
       "       107.1943068 ,  60.68107811])"
      ]
     },
     "execution_count": 151,
     "metadata": {},
     "output_type": "execute_result"
    }
   ],
   "source": [
    "reg.predict(x_test)"
   ]
  },
  {
   "cell_type": "code",
   "execution_count": 152,
   "id": "244fd397",
   "metadata": {},
   "outputs": [
    {
     "data": {
      "text/plain": [
       "0.45079188116701585"
      ]
     },
     "execution_count": 152,
     "metadata": {},
     "output_type": "execute_result"
    }
   ],
   "source": [
    "reg.score(x_test, y_test)"
   ]
  },
  {
   "cell_type": "markdown",
   "id": "d2b02009",
   "metadata": {},
   "source": [
    "We only used two feature to predict label. When we add more feature to model accuracy will increased."
   ]
  },
  {
   "cell_type": "code",
   "execution_count": null,
   "id": "dc79dcbb",
   "metadata": {},
   "outputs": [],
   "source": []
  },
  {
   "cell_type": "code",
   "execution_count": null,
   "id": "757d2b53",
   "metadata": {},
   "outputs": [],
   "source": []
  },
  {
   "cell_type": "markdown",
   "id": "46aa7176",
   "metadata": {},
   "source": [
    "## One Hot Coding"
   ]
  },
  {
   "cell_type": "code",
   "execution_count": 153,
   "id": "65b7392d",
   "metadata": {},
   "outputs": [],
   "source": [
    "# simplipying avaibility column\n",
    "def chng(row):\n",
    "    if row == 'Ready To Move' or row == 'Immediate Possession':\n",
    "        row = '1'\n",
    "    else:\n",
    "        row = '0'\n",
    "    return row\n",
    "    \n",
    "df['availability'] = df['availability'].apply(chng)"
   ]
  },
  {
   "cell_type": "code",
   "execution_count": 154,
   "id": "272f368d",
   "metadata": {},
   "outputs": [
    {
     "data": {
      "text/plain": [
       "array(['0', '1'], dtype=object)"
      ]
     },
     "execution_count": 154,
     "metadata": {},
     "output_type": "execute_result"
    }
   ],
   "source": [
    "df['availability'].unique()"
   ]
  },
  {
   "cell_type": "code",
   "execution_count": 155,
   "id": "e4a61cb8",
   "metadata": {},
   "outputs": [],
   "source": [
    "df['availability'] = df['availability'].map(lambda x: True if x=='1' else False)"
   ]
  },
  {
   "cell_type": "code",
   "execution_count": 156,
   "id": "e662b889",
   "metadata": {},
   "outputs": [
    {
     "data": {
      "text/plain": [
       "array([False,  True])"
      ]
     },
     "execution_count": 156,
     "metadata": {},
     "output_type": "execute_result"
    }
   ],
   "source": [
    "df['availability'].unique()"
   ]
  },
  {
   "cell_type": "code",
   "execution_count": 157,
   "id": "4cb7bebb",
   "metadata": {},
   "outputs": [
    {
     "data": {
      "text/plain": [
       "dtype('bool')"
      ]
     },
     "execution_count": 157,
     "metadata": {},
     "output_type": "execute_result"
    }
   ],
   "source": [
    "df['availability'].dtypes"
   ]
  },
  {
   "cell_type": "code",
   "execution_count": 158,
   "id": "c9c60fe3",
   "metadata": {},
   "outputs": [],
   "source": [
    "X2 = df[['total_sqft','size','availability']]\n",
    "y2 = df['price']\n",
    "\n",
    "x2_train, x2_test, y2_train, y2_test = train_test_split(X2,y2,test_size=0.3)"
   ]
  },
  {
   "cell_type": "code",
   "execution_count": 159,
   "id": "e871f827",
   "metadata": {},
   "outputs": [
    {
     "data": {
      "text/plain": [
       "LinearRegression()"
      ]
     },
     "execution_count": 159,
     "metadata": {},
     "output_type": "execute_result"
    }
   ],
   "source": [
    "reg2 = linear_model.LinearRegression()\n",
    "reg2.fit(x2_train,y2_train)"
   ]
  },
  {
   "cell_type": "code",
   "execution_count": 160,
   "id": "37f958d9",
   "metadata": {},
   "outputs": [
    {
     "data": {
      "text/plain": [
       "0.43075349559047427"
      ]
     },
     "execution_count": 160,
     "metadata": {},
     "output_type": "execute_result"
    }
   ],
   "source": [
    "reg2.score(x2_test, y2_test)"
   ]
  },
  {
   "cell_type": "code",
   "execution_count": 161,
   "id": "dc939682",
   "metadata": {},
   "outputs": [
    {
     "data": {
      "text/plain": [
       "Index(['area_type', 'availability', 'location', 'size', 'total_sqft', 'bath',\n",
       "       'price'],\n",
       "      dtype='object')"
      ]
     },
     "execution_count": 161,
     "metadata": {},
     "output_type": "execute_result"
    }
   ],
   "source": [
    "df.columns"
   ]
  },
  {
   "cell_type": "code",
   "execution_count": 162,
   "id": "6dfdbec6",
   "metadata": {
    "scrolled": false
   },
   "outputs": [
    {
     "data": {
      "text/plain": [
       "<AxesSubplot:xlabel='price', ylabel='area_type'>"
      ]
     },
     "execution_count": 162,
     "metadata": {},
     "output_type": "execute_result"
    },
    {
     "data": {
      "image/png": "[encoded data removed]",
      "text/plain": [
       "<Figure size 640x480 with 1 Axes>"
      ]
     },
     "metadata": {},
     "output_type": "display_data"
    }
   ],
   "source": [
    "sns.boxplot(x=df['price'], y=df['area_type'])"
   ]
  },
  {
   "cell_type": "code",
   "execution_count": 163,
   "id": "f494ef82",
   "metadata": {},
   "outputs": [],
   "source": [
    "location_stats = df['location'].value_counts()"
   ]
  },
  {
   "cell_type": "code",
   "execution_count": 164,
   "id": "ff0e0186",
   "metadata": {},
   "outputs": [
    {
     "data": {
      "text/plain": [
       "2433"
      ]
     },
     "execution_count": 164,
     "metadata": {},
     "output_type": "execute_result"
    }
   ],
   "source": [
    "location_stats[location_stats <= 10].sum()"
   ]
  },
  {
   "cell_type": "code",
   "execution_count": 165,
   "id": "35572b35",
   "metadata": {},
   "outputs": [],
   "source": [
    "l_less_10 = location_stats[location_stats <= 10]"
   ]
  },
  {
   "cell_type": "code",
   "execution_count": 166,
   "id": "b901b9b0",
   "metadata": {},
   "outputs": [],
   "source": [
    "df['location'] =  df['location'].apply(lambda x: 'other' if x in l_less_10 else x)"
   ]
  },
  {
   "cell_type": "code",
   "execution_count": 167,
   "id": "09ff7e28",
   "metadata": {},
   "outputs": [],
   "source": [
    "dummy = pd.get_dummies(df['location'])"
   ]
  },
  {
   "cell_type": "code",
   "execution_count": 168,
   "id": "5c3960cc",
   "metadata": {},
   "outputs": [],
   "source": [
    "df = pd.concat([df,dummy], axis='columns')"
   ]
  },
  {
   "cell_type": "code",
   "execution_count": 169,
   "id": "aab6d5d4",
   "metadata": {},
   "outputs": [],
   "source": [
    "df = df.drop('location',axis='columns')"
   ]
  },
  {
   "cell_type": "code",
   "execution_count": 170,
   "id": "ea3563e4",
   "metadata": {},
   "outputs": [],
   "source": [
    "dm2 = pd.get_dummies(df['area_type'])"
   ]
  },
  {
   "cell_type": "code",
   "execution_count": 171,
   "id": "64748ac0",
   "metadata": {},
   "outputs": [],
   "source": [
    "df = pd.concat([df,dm2], axis='columns')"
   ]
  },
  {
   "cell_type": "code",
   "execution_count": 172,
   "id": "cbb105c6",
   "metadata": {},
   "outputs": [],
   "source": [
    "y3 = df['price']"
   ]
  },
  {
   "cell_type": "code",
   "execution_count": 173,
   "id": "554a3fce",
   "metadata": {},
   "outputs": [],
   "source": [
    "x4 = df.drop('price',axis='columns')"
   ]
  },
  {
   "cell_type": "code",
   "execution_count": 174,
   "id": "74f57ec8",
   "metadata": {},
   "outputs": [],
   "source": [
    "x3 = df.drop('area_type',axis='columns')"
   ]
  },
  {
   "cell_type": "code",
   "execution_count": 175,
   "id": "bed35161",
   "metadata": {},
   "outputs": [],
   "source": [
    "x3_train, x3_test, y3_train, y3_test = train_test_split(x3,y3,test_size=0.2)"
   ]
  },
  {
   "cell_type": "code",
   "execution_count": 176,
   "id": "f1021a29",
   "metadata": {},
   "outputs": [
    {
     "ename": "ValueError",
     "evalue": "Input contains NaN, infinity or a value too large for dtype('float64').",
     "output_type": "error",
     "traceback": [
      "\u001b[1;31m---------------------------------------------------------------------------\u001b[0m",
      "\u001b[1;31mValueError\u001b[0m                                Traceback (most recent call last)",
      "\u001b[1;32m~\\AppData\\Local\\Temp\\ipykernel_9212\\2433228773.py\u001b[0m in \u001b[0;36m<module>\u001b[1;34m\u001b[0m\n\u001b[0;32m      1\u001b[0m \u001b[0mreg3\u001b[0m \u001b[1;33m=\u001b[0m \u001b[0mlinear_model\u001b[0m\u001b[1;33m.\u001b[0m\u001b[0mLinearRegression\u001b[0m\u001b[1;33m(\u001b[0m\u001b[1;33m)\u001b[0m\u001b[1;33m\u001b[0m\u001b[1;33m\u001b[0m\u001b[0m\n\u001b[1;32m----> 2\u001b[1;33m \u001b[0mreg3\u001b[0m\u001b[1;33m.\u001b[0m\u001b[0mfit\u001b[0m\u001b[1;33m(\u001b[0m\u001b[0mx3_train\u001b[0m\u001b[1;33m,\u001b[0m\u001b[0my3_train\u001b[0m\u001b[1;33m)\u001b[0m\u001b[1;33m\u001b[0m\u001b[1;33m\u001b[0m\u001b[0m\n\u001b[0m",
      "\u001b[1;32m~\\anaconda3\\lib\\site-packages\\sklearn\\linear_model\\_base.py\u001b[0m in \u001b[0;36mfit\u001b[1;34m(self, X, y, sample_weight)\u001b[0m\n\u001b[0;32m    660\u001b[0m         \u001b[0maccept_sparse\u001b[0m \u001b[1;33m=\u001b[0m \u001b[1;32mFalse\u001b[0m \u001b[1;32mif\u001b[0m \u001b[0mself\u001b[0m\u001b[1;33m.\u001b[0m\u001b[0mpositive\u001b[0m \u001b[1;32melse\u001b[0m \u001b[1;33m[\u001b[0m\u001b[1;34m\"csr\"\u001b[0m\u001b[1;33m,\u001b[0m \u001b[1;34m\"csc\"\u001b[0m\u001b[1;33m,\u001b[0m \u001b[1;34m\"coo\"\u001b[0m\u001b[1;33m]\u001b[0m\u001b[1;33m\u001b[0m\u001b[1;33m\u001b[0m\u001b[0m\n\u001b[0;32m    661\u001b[0m \u001b[1;33m\u001b[0m\u001b[0m\n\u001b[1;32m--> 662\u001b[1;33m         X, y = self._validate_data(\n\u001b[0m\u001b[0;32m    663\u001b[0m             \u001b[0mX\u001b[0m\u001b[1;33m,\u001b[0m \u001b[0my\u001b[0m\u001b[1;33m,\u001b[0m \u001b[0maccept_sparse\u001b[0m\u001b[1;33m=\u001b[0m\u001b[0maccept_sparse\u001b[0m\u001b[1;33m,\u001b[0m \u001b[0my_numeric\u001b[0m\u001b[1;33m=\u001b[0m\u001b[1;32mTrue\u001b[0m\u001b[1;33m,\u001b[0m \u001b[0mmulti_output\u001b[0m\u001b[1;33m=\u001b[0m\u001b[1;32mTrue\u001b[0m\u001b[1;33m\u001b[0m\u001b[1;33m\u001b[0m\u001b[0m\n\u001b[0;32m    664\u001b[0m         )\n",
      "\u001b[1;32m~\\anaconda3\\lib\\site-packages\\sklearn\\base.py\u001b[0m in \u001b[0;36m_validate_data\u001b[1;34m(self, X, y, reset, validate_separately, **check_params)\u001b[0m\n\u001b[0;32m    579\u001b[0m                 \u001b[0my\u001b[0m \u001b[1;33m=\u001b[0m \u001b[0mcheck_array\u001b[0m\u001b[1;33m(\u001b[0m\u001b[0my\u001b[0m\u001b[1;33m,\u001b[0m \u001b[1;33m**\u001b[0m\u001b[0mcheck_y_params\u001b[0m\u001b[1;33m)\u001b[0m\u001b[1;33m\u001b[0m\u001b[1;33m\u001b[0m\u001b[0m\n\u001b[0;32m    580\u001b[0m             \u001b[1;32melse\u001b[0m\u001b[1;33m:\u001b[0m\u001b[1;33m\u001b[0m\u001b[1;33m\u001b[0m\u001b[0m\n\u001b[1;32m--> 581\u001b[1;33m                 \u001b[0mX\u001b[0m\u001b[1;33m,\u001b[0m \u001b[0my\u001b[0m \u001b[1;33m=\u001b[0m \u001b[0mcheck_X_y\u001b[0m\u001b[1;33m(\u001b[0m\u001b[0mX\u001b[0m\u001b[1;33m,\u001b[0m \u001b[0my\u001b[0m\u001b[1;33m,\u001b[0m \u001b[1;33m**\u001b[0m\u001b[0mcheck_params\u001b[0m\u001b[1;33m)\u001b[0m\u001b[1;33m\u001b[0m\u001b[1;33m\u001b[0m\u001b[0m\n\u001b[0m\u001b[0;32m    582\u001b[0m             \u001b[0mout\u001b[0m \u001b[1;33m=\u001b[0m \u001b[0mX\u001b[0m\u001b[1;33m,\u001b[0m \u001b[0my\u001b[0m\u001b[1;33m\u001b[0m\u001b[1;33m\u001b[0m\u001b[0m\n\u001b[0;32m    583\u001b[0m \u001b[1;33m\u001b[0m\u001b[0m\n",
      "\u001b[1;32m~\\anaconda3\\lib\\site-packages\\sklearn\\utils\\validation.py\u001b[0m in \u001b[0;36mcheck_X_y\u001b[1;34m(X, y, accept_sparse, accept_large_sparse, dtype, order, copy, force_all_finite, ensure_2d, allow_nd, multi_output, ensure_min_samples, ensure_min_features, y_numeric, estimator)\u001b[0m\n\u001b[0;32m    962\u001b[0m         \u001b[1;32mraise\u001b[0m \u001b[0mValueError\u001b[0m\u001b[1;33m(\u001b[0m\u001b[1;34m\"y cannot be None\"\u001b[0m\u001b[1;33m)\u001b[0m\u001b[1;33m\u001b[0m\u001b[1;33m\u001b[0m\u001b[0m\n\u001b[0;32m    963\u001b[0m \u001b[1;33m\u001b[0m\u001b[0m\n\u001b[1;32m--> 964\u001b[1;33m     X = check_array(\n\u001b[0m\u001b[0;32m    965\u001b[0m         \u001b[0mX\u001b[0m\u001b[1;33m,\u001b[0m\u001b[1;33m\u001b[0m\u001b[1;33m\u001b[0m\u001b[0m\n\u001b[0;32m    966\u001b[0m         \u001b[0maccept_sparse\u001b[0m\u001b[1;33m=\u001b[0m\u001b[0maccept_sparse\u001b[0m\u001b[1;33m,\u001b[0m\u001b[1;33m\u001b[0m\u001b[1;33m\u001b[0m\u001b[0m\n",
      "\u001b[1;32m~\\anaconda3\\lib\\site-packages\\sklearn\\utils\\validation.py\u001b[0m in \u001b[0;36mcheck_array\u001b[1;34m(array, accept_sparse, accept_large_sparse, dtype, order, copy, force_all_finite, ensure_2d, allow_nd, ensure_min_samples, ensure_min_features, estimator)\u001b[0m\n\u001b[0;32m    798\u001b[0m \u001b[1;33m\u001b[0m\u001b[0m\n\u001b[0;32m    799\u001b[0m         \u001b[1;32mif\u001b[0m \u001b[0mforce_all_finite\u001b[0m\u001b[1;33m:\u001b[0m\u001b[1;33m\u001b[0m\u001b[1;33m\u001b[0m\u001b[0m\n\u001b[1;32m--> 800\u001b[1;33m             \u001b[0m_assert_all_finite\u001b[0m\u001b[1;33m(\u001b[0m\u001b[0marray\u001b[0m\u001b[1;33m,\u001b[0m \u001b[0mallow_nan\u001b[0m\u001b[1;33m=\u001b[0m\u001b[0mforce_all_finite\u001b[0m \u001b[1;33m==\u001b[0m \u001b[1;34m\"allow-nan\"\u001b[0m\u001b[1;33m)\u001b[0m\u001b[1;33m\u001b[0m\u001b[1;33m\u001b[0m\u001b[0m\n\u001b[0m\u001b[0;32m    801\u001b[0m \u001b[1;33m\u001b[0m\u001b[0m\n\u001b[0;32m    802\u001b[0m     \u001b[1;32mif\u001b[0m \u001b[0mensure_min_samples\u001b[0m \u001b[1;33m>\u001b[0m \u001b[1;36m0\u001b[0m\u001b[1;33m:\u001b[0m\u001b[1;33m\u001b[0m\u001b[1;33m\u001b[0m\u001b[0m\n",
      "\u001b[1;32m~\\anaconda3\\lib\\site-packages\\sklearn\\utils\\validation.py\u001b[0m in \u001b[0;36m_assert_all_finite\u001b[1;34m(X, allow_nan, msg_dtype)\u001b[0m\n\u001b[0;32m    112\u001b[0m         ):\n\u001b[0;32m    113\u001b[0m             \u001b[0mtype_err\u001b[0m \u001b[1;33m=\u001b[0m \u001b[1;34m\"infinity\"\u001b[0m \u001b[1;32mif\u001b[0m \u001b[0mallow_nan\u001b[0m \u001b[1;32melse\u001b[0m \u001b[1;34m\"NaN, infinity\"\u001b[0m\u001b[1;33m\u001b[0m\u001b[1;33m\u001b[0m\u001b[0m\n\u001b[1;32m--> 114\u001b[1;33m             raise ValueError(\n\u001b[0m\u001b[0;32m    115\u001b[0m                 msg_err.format(\n\u001b[0;32m    116\u001b[0m                     \u001b[0mtype_err\u001b[0m\u001b[1;33m,\u001b[0m \u001b[0mmsg_dtype\u001b[0m \u001b[1;32mif\u001b[0m \u001b[0mmsg_dtype\u001b[0m \u001b[1;32mis\u001b[0m \u001b[1;32mnot\u001b[0m \u001b[1;32mNone\u001b[0m \u001b[1;32melse\u001b[0m \u001b[0mX\u001b[0m\u001b[1;33m.\u001b[0m\u001b[0mdtype\u001b[0m\u001b[1;33m\u001b[0m\u001b[1;33m\u001b[0m\u001b[0m\n",
      "\u001b[1;31mValueError\u001b[0m: Input contains NaN, infinity or a value too large for dtype('float64')."
     ]
    }
   ],
   "source": [
    "reg3 = linear_model.LinearRegression()\n",
    "reg3.fit(x3_train,y3_train)"
   ]
  },
  {
   "cell_type": "code",
   "execution_count": null,
   "id": "1ba80d2a",
   "metadata": {},
   "outputs": [],
   "source": [
    "x3_train"
   ]
  },
  {
   "cell_type": "code",
   "execution_count": null,
   "id": "107ce5bb",
   "metadata": {},
   "outputs": [],
   "source": []
  }
 ],
 "metadata": {
  "kernelspec": {
   "display_name": "Python 3 (ipykernel)",
   "language": "python",
   "name": "python3"
  },
  "language_info": {
   "codemirror_mode": {
    "name": "ipython",
    "version": 3
   },
   "file_extension": ".py",
   "mimetype": "text/x-python",
   "name": "python",
   "nbconvert_exporter": "python",
   "pygments_lexer": "ipython3",
   "version": "3.9.13"
  }
 },
 "nbformat": 4,
 "nbformat_minor": 5
}
